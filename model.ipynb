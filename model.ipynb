{
 "cells": [
  {
   "cell_type": "code",
   "execution_count": 1,
   "metadata": {},
   "outputs": [],
   "source": [
    "import pandas as pd \n",
    "import numpy as np\n",
    "from sklearn.model_selection import train_test_split\n",
    "import seaborn as sns\n",
    "import matplotlib.pyplot as plt\n",
    "from sklearn.compose import ColumnTransformer\n",
    "from sklearn.pipeline import Pipeline\n",
    "from sklearn.impute import SimpleImputer\n",
    "from sklearn.preprocessing import OneHotEncoder\n",
    "from sklearn.base import BaseEstimator, TransformerMixin\n",
    "from sklearn.ensemble import RandomForestRegressor\n",
    "from sklearn.metrics import mean_squared_error\n",
    "\n"
   ]
  },
  {
   "cell_type": "code",
   "execution_count": 2,
   "metadata": {},
   "outputs": [],
   "source": [
    "data=pd.read_csv('data/melb_data.csv')\n",
    "data.drop(columns=['Address','SellerG','CouncilArea'],axis=1,inplace=True)"
   ]
  },
  {
   "cell_type": "code",
   "execution_count": 3,
   "metadata": {},
   "outputs": [],
   "source": [
    "X=data.drop('Price',axis=1)\n",
    "y=data['Price']\n",
    "X_train,X_valid,y_train,y_valid=train_test_split(X,y,train_size=0.8, random_state=0)"
   ]
  },
  {
   "cell_type": "code",
   "execution_count": null,
   "metadata": {},
   "outputs": [],
   "source": [
    "from transformers import DateTransformer, SubUrbMeanEncoder\n",
    "\n",
    "suburb_mean_price = data.groupby('Suburb')['Price'].mean()\n",
    "\n",
    "pipeline = Pipeline([\n",
    "    ('date_transformer', DateTransformer()),\n",
    "    ('preprocessor', ColumnTransformer(\n",
    "        transformers=[\n",
    "            ('suburb', SubUrbMeanEncoder(suburb_mean_price), ['Suburb']),\n",
    "            \n",
    "            ('onehot_type', OneHotEncoder(), ['Type']),\n",
    "            ('onehot_method', OneHotEncoder(), ['Method']),\n",
    "            ('onehot_region', OneHotEncoder(), ['Regionname']),\n",
    "            \n",
    "            ('car_imputer', SimpleImputer(strategy='constant', fill_value=0), ['Car']),\n",
    "            \n",
    "            ('building_year_imputer', SimpleImputer(strategy='mean'), ['BuildingArea', 'YearBuilt']),\n",
    "\n",
    "            \n",
    "        ],\n",
    "        remainder='passthrough',\n",
    "    )),\n",
    "    ('model', RandomForestRegressor())\n",
    "])\n",
    "\n",
    "pipeline.fit(X_train, y_train)\n"
   ]
  },
  {
   "cell_type": "code",
   "execution_count": null,
   "metadata": {},
   "outputs": [],
   "source": [
    "y_pred=pipeline.predict(X_valid)"
   ]
  },
  {
   "cell_type": "code",
   "execution_count": null,
   "metadata": {},
   "outputs": [],
   "source": [
    "results_df = pd.DataFrame({\n",
    "    'Actual': y_valid,\n",
    "    'Predicted': y_pred\n",
    "})"
   ]
  },
  {
   "cell_type": "code",
   "execution_count": null,
   "metadata": {},
   "outputs": [],
   "source": [
    "import pickle\n",
    "\n",
    "with open('model_pipeline.pkl', 'wb') as f:\n",
    "    pickle.dump(pipeline, f)\n",
    "    \n",
    "with open('my_variable.pkl', 'wb') as f:\n",
    "    pickle.dump(X_valid, f)"
   ]
  }
 ],
 "metadata": {
  "kernelspec": {
   "display_name": "Python (venv)",
   "language": "python",
   "name": "venv"
  },
  "language_info": {
   "codemirror_mode": {
    "name": "ipython",
    "version": 3
   },
   "file_extension": ".py",
   "mimetype": "text/x-python",
   "name": "python",
   "nbconvert_exporter": "python",
   "pygments_lexer": "ipython3",
   "version": "3.12.3"
  }
 },
 "nbformat": 4,
 "nbformat_minor": 2
}
